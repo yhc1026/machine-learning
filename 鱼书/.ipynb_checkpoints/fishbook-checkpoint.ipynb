{
 "cells": [
  {
   "cell_type": "code",
   "execution_count": 16,
   "id": "eb58dd23-a950-48df-9912-27c2008418a0",
   "metadata": {},
   "outputs": [],
   "source": [
    "import numpy as np"
   ]
  },
  {
   "cell_type": "markdown",
   "id": "2c18ed97-a2bb-41bf-85fe-c90a046f4255",
   "metadata": {
    "jp-MarkdownHeadingCollapsed": true
   },
   "source": [
    "# 感知机"
   ]
  },
  {
   "cell_type": "markdown",
   "id": "f1510356-a649-4de2-bd22-295f68388dfc",
   "metadata": {},
   "source": [
    "## 与门"
   ]
  },
  {
   "cell_type": "code",
   "execution_count": 8,
   "id": "a6dca525-4334-4e26-9f12-77730f3cf0e7",
   "metadata": {},
   "outputs": [],
   "source": [
    "def AND(x1,x2):\n",
    "    x=np.array([x1,x2])\n",
    "    w=np.array([0.5,0.5])\n",
    "    b=-0.7\n",
    "    y=np.sum(w*x)+b\n",
    "    if y<=0:\n",
    "        return 0\n",
    "    else:\n",
    "        return 1"
   ]
  },
  {
   "cell_type": "markdown",
   "id": "05321221-67c9-4dff-ae64-d55f84c2ab30",
   "metadata": {},
   "source": [
    "## 或门"
   ]
  },
  {
   "cell_type": "code",
   "execution_count": 9,
   "id": "f79a0ba3-398f-4421-a45b-28fe23b4247f",
   "metadata": {},
   "outputs": [],
   "source": [
    "def OR(x1,x2):\n",
    "    x=np.array([x1,x2])\n",
    "    w=np.array([0.5,0.5])\n",
    "    b=-0.2\n",
    "    y=np.sum(w*x)+b\n",
    "    if y<=0:\n",
    "        return 0\n",
    "    else:\n",
    "        return 1"
   ]
  },
  {
   "cell_type": "markdown",
   "id": "ade3871e-603b-4105-99ca-e5fa9d0be823",
   "metadata": {},
   "source": [
    "## 与非门"
   ]
  },
  {
   "cell_type": "code",
   "execution_count": 10,
   "id": "d10af6a5-6c14-44e3-bd7c-1232021102c3",
   "metadata": {},
   "outputs": [],
   "source": [
    "def NAND(x1,x2):\n",
    "    x=np.array([x1,x2])\n",
    "    w=np.array([0.5,0.5])\n",
    "    b=0.7\n",
    "    y=np.sum(w*x)+b\n",
    "    if y<=0:\n",
    "        return 0\n",
    "    else:\n",
    "        return 1"
   ]
  },
  {
   "cell_type": "markdown",
   "id": "8c2ddf40-307b-4918-8f26-b4075a5b6dce",
   "metadata": {},
   "source": [
    "## 异或门"
   ]
  },
  {
   "cell_type": "code",
   "execution_count": 11,
   "id": "96eab525-869e-4bf3-83ff-c9e943e15ca9",
   "metadata": {},
   "outputs": [],
   "source": [
    "def XOR(x1,x2):\n",
    "    y1=OR(x1,x2)\n",
    "    y2=NAND(x1,x2)\n",
    "    y=AND(y1,y2)\n",
    "    return y"
   ]
  },
  {
   "cell_type": "markdown",
   "id": "ef62c20b-da09-409b-b06d-92e75b49d30b",
   "metadata": {
    "jp-MarkdownHeadingCollapsed": true
   },
   "source": [
    "# 神经网络"
   ]
  },
  {
   "cell_type": "markdown",
   "id": "104f6efe-894b-4774-85a7-8a1e20d5373a",
   "metadata": {},
   "source": [
    "## 激活函数"
   ]
  },
  {
   "cell_type": "markdown",
   "id": "e4a1d00f-1a2c-46df-a2f6-32ebc58b4e70",
   "metadata": {},
   "source": [
    "### 阶跃函数"
   ]
  },
  {
   "cell_type": "code",
   "execution_count": 1,
   "id": "777344b3-544b-46e0-b024-f4416550195c",
   "metadata": {},
   "outputs": [],
   "source": [
    "def step_function(x):\n",
    "    if x>0:\n",
    "        return 1\n",
    "    else:\n",
    "        return 0"
   ]
  },
  {
   "cell_type": "code",
   "execution_count": 2,
   "id": "e4957606-4fd2-469a-b650-0cef3f138b2c",
   "metadata": {},
   "outputs": [],
   "source": [
    "def step_function(x):\n",
    "    y=x>0\n",
    "    return y.astype(np.int)"
   ]
  },
  {
   "cell_type": "markdown",
   "id": "64a646c8-69fb-4d92-9f32-42c121c2f890",
   "metadata": {},
   "source": [
    "#### 图形"
   ]
  },
  {
   "cell_type": "code",
   "execution_count": 3,
   "id": "d583001d-9d6b-465d-ae8e-d2165692db6a",
   "metadata": {},
   "outputs": [],
   "source": [
    "import numpy as np\n",
    "import matplotlib.pylab as plt"
   ]
  },
  {
   "cell_type": "code",
   "execution_count": 8,
   "id": "318d3679-0cc2-4c69-8230-d90c0b2d9f88",
   "metadata": {},
   "outputs": [],
   "source": [
    "def step_function(x):\n",
    "    return (x > 0).astype(int)"
   ]
  },
  {
   "cell_type": "code",
   "execution_count": 9,
   "id": "a1a48c9c-88ea-44a9-9bd1-a1097ca7f654",
   "metadata": {},
   "outputs": [
    {
     "data": {
      "image/png": "[encoded data removed]",
      "text/plain": [
       "<Figure size 640x480 with 1 Axes>"
      ]
     },
     "metadata": {},
     "output_type": "display_data"
    }
   ],
   "source": [
    "x=np.arange(-5.0,5.0,0.1)\n",
    "y=step_function(x)\n",
    "plt.plot(x,y)\n",
    "plt.ylim(-0.1,1.1)\n",
    "plt.show()"
   ]
  },
  {
   "cell_type": "markdown",
   "id": "9dd9e109-0cb5-40de-b888-9211d27efdfd",
   "metadata": {
    "jp-MarkdownHeadingCollapsed": true
   },
   "source": [
    "### sigmoid函数实现"
   ]
  },
  {
   "cell_type": "code",
   "execution_count": 16,
   "id": "ce9076e3-6c83-436e-9912-786f9e7c7c16",
   "metadata": {},
   "outputs": [],
   "source": [
    "def sigmoid(x):\n",
    "    return 1/(1+np.exp(-x))"
   ]
  },
  {
   "cell_type": "code",
   "execution_count": 12,
   "id": "5fd1e2d3-7773-4ed1-8ee5-d2a56c33e052",
   "metadata": {
    "scrolled": true
   },
   "outputs": [
    {
     "data": {
      "image/png": "[encoded data removed]",
      "text/plain": [
       "<Figure size 640x480 with 1 Axes>"
      ]
     },
     "metadata": {},
     "output_type": "display_data"
    }
   ],
   "source": [
    "x=np.arange(-5.0,5.0,0.1)\n",
    "y=sigmoid(x)\n",
    "plt.plot(x,y)\n",
    "plt.show()"
   ]
  },
  {
   "cell_type": "markdown",
   "id": "6ee676f2-108c-465c-85eb-27abb4020629",
   "metadata": {
    "jp-MarkdownHeadingCollapsed": true
   },
   "source": [
    "### ReLU函数"
   ]
  },
  {
   "cell_type": "code",
   "execution_count": 13,
   "id": "6d546d41-862e-46fe-991a-3de76d1c17b1",
   "metadata": {},
   "outputs": [],
   "source": [
    "def ReLU(x):\n",
    "    return np.maximum(0,x)"
   ]
  },
  {
   "cell_type": "markdown",
   "id": "229835fc-3da8-45d0-ad0c-5542201da618",
   "metadata": {
    "jp-MarkdownHeadingCollapsed": true
   },
   "source": [
    "### 实现神经网络"
   ]
  },
  {
   "cell_type": "code",
   "execution_count": 20,
   "id": "11b2600a-d7da-486f-934d-65984b22615e",
   "metadata": {},
   "outputs": [],
   "source": [
    "def init_network():\n",
    "    network={}\n",
    "    network['W1']=np.array([[0.1,0.3,0.5],[0.2,0.4,0.6]])\n",
    "    network['b1']=np.array([0.1,0.2,0.3])\n",
    "    network['W2']=np.array([[0.1,0.4],[0.2,0.5],[0.3,0.6]])\n",
    "    network['b2']=np.array([0.1,0.2])\n",
    "    network['W3']=np.array([[0.1,0.3],[0.2,0.4]])\n",
    "    network['b3']=np.array([0.1,0.2])\n",
    "    return network"
   ]
  },
  {
   "cell_type": "code",
   "execution_count": 23,
   "id": "99f8271d-5be9-4267-8ca3-a9a5e2cf365c",
   "metadata": {},
   "outputs": [],
   "source": [
    "def forward(network,x):\n",
    "    W1,W2,W3=network['W1'],network['W2'],network['W3']\n",
    "    b1,b2,b3=network['b1'],network['b2'],network['b3']\n",
    "    #第一层->第二层\n",
    "    a1=np.dot(x,W1)+b1\n",
    "    z1=sigmoid(a1)\n",
    "    #第二层->第三层\n",
    "    a2=np.dot(z1,W2)+b2\n",
    "    z2=sigmoid(a2)\n",
    "    #第三层->输出层  此处的激活函数一般不为sigmoid，而是其他函数，在后面实现\n",
    "    a3=np.dot(z2,W3)+b3\n",
    "    y=sigmoid(a3)\n",
    "\n",
    "    return y"
   ]
  },
  {
   "cell_type": "code",
   "execution_count": 24,
   "id": "065693f6-1c69-42b5-90cc-647833d841f2",
   "metadata": {},
   "outputs": [
    {
     "name": "stdout",
     "output_type": "stream",
     "text": [
      "[0.57855079 0.66736228]\n"
     ]
    }
   ],
   "source": [
    "network=init_network()\n",
    "x=np.array([1.0,0.5])\n",
    "y=forward(network,x)\n",
    "print(y)"
   ]
  },
  {
   "cell_type": "markdown",
   "id": "0d636dc3-30e4-40fd-a8ff-817d09b8eb95",
   "metadata": {
    "jp-MarkdownHeadingCollapsed": true
   },
   "source": [
    "## 输出层"
   ]
  },
  {
   "cell_type": "markdown",
   "id": "2f76ab44-23e2-4907-8b6f-ec366bdab6b6",
   "metadata": {
    "jp-MarkdownHeadingCollapsed": true
   },
   "source": [
    "### softmax函数"
   ]
  },
  {
   "cell_type": "markdown",
   "id": "127ef41c-49b2-489f-b91d-749d7a60c59e",
   "metadata": {},
   "source": [
    "#### 原版"
   ]
  },
  {
   "cell_type": "code",
   "execution_count": 20,
   "id": "8b6a2041-1416-4b25-8503-6b7f7a8120b5",
   "metadata": {},
   "outputs": [],
   "source": [
    "import numpy as np\n",
    "def softmax(a):\n",
    "    exp_a=np.exp(a)\n",
    "    sum_a=np.sum(exp_a)\n",
    "    return exp_a/sum_a"
   ]
  },
  {
   "cell_type": "markdown",
   "id": "1b18b2ad-c4a6-4991-acde-820aea82be33",
   "metadata": {},
   "source": [
    "#### 防止溢出"
   ]
  },
  {
   "cell_type": "code",
   "execution_count": 18,
   "id": "0b1461a7-bfd3-4999-b5ad-49f9ad271799",
   "metadata": {},
   "outputs": [],
   "source": [
    "def softmax_new(a):\n",
    "    c=np.max(a)\n",
    "    exp_a=np.exp(a-c)\n",
    "    sum_a=np.sum(exp_a)\n",
    "    return xep_a/sum_a"
   ]
  },
  {
   "cell_type": "code",
   "execution_count": 18,
   "id": "9041b716-210c-49ae-9d97-2a57ce0bcec9",
   "metadata": {},
   "outputs": [
    {
     "name": "stdout",
     "output_type": "stream",
     "text": [
      "[0.01821127 0.24519181 0.73659691]\n",
      "sum : 1.0\n"
     ]
    }
   ],
   "source": [
    "## 经过softmax，输出和总为1，这可以被看作概率\n",
    "a=np.array([0.3,2.9,4.0])\n",
    "y=softmax(a)\n",
    "print(y)\n",
    "print(\"sum :\",np.sum(y))"
   ]
  },
  {
   "cell_type": "markdown",
   "id": "304e2fa9-5f22-4978-aa84-faff1f9e9a28",
   "metadata": {},
   "source": [
    "## 手写数字识别"
   ]
  },
  {
   "cell_type": "markdown",
   "id": "34aa3e0f-620a-4aa2-8e6d-689c39ba5e02",
   "metadata": {},
   "source": [
    "### MNIST数据集"
   ]
  },
  {
   "cell_type": "code",
   "execution_count": 6,
   "id": "f0771d3f-fe7e-4182-ac3d-b9eb5c332a42",
   "metadata": {},
   "outputs": [],
   "source": [
    "import sys,os\n",
    "sys.path.append(os.pardir)\n",
    "from dataset.mnist import load_mnist\n",
    "import pickle\n",
    "import numpy as np"
   ]
  },
  {
   "cell_type": "code",
   "execution_count": 7,
   "id": "6d1dfab1-2e25-459d-ace5-8eaf2c09a879",
   "metadata": {},
   "outputs": [],
   "source": [
    "(x_train,t_train),(x_test,t_test)=load_mnist(flatten=True,normalize=False)"
   ]
  },
  {
   "cell_type": "code",
   "execution_count": 8,
   "id": "76054cdb-4598-4f43-a77a-4a383ea69574",
   "metadata": {},
   "outputs": [
    {
     "name": "stdout",
     "output_type": "stream",
     "text": [
      "(60000, 784)\n",
      "(60000,)\n",
      "(10000, 784)\n",
      "(10000,)\n"
     ]
    }
   ],
   "source": [
    "print(x_train.shape)\n",
    "print(t_train.shape)\n",
    "print(x_test.shape)\n",
    "print(t_test.shape)"
   ]
  },
  {
   "cell_type": "markdown",
   "id": "24ab7c49-2d0a-4ac7-a829-53ed88c2cc81",
   "metadata": {},
   "source": [
    "#### 导入并显示第一张图片"
   ]
  },
  {
   "cell_type": "code",
   "execution_count": 11,
   "id": "78ff9078-3b6c-4b2b-bd47-f05ca128e1fc",
   "metadata": {},
   "outputs": [
    {
     "name": "stdout",
     "output_type": "stream",
     "text": [
      "5\n",
      "(784,)\n",
      "(28, 28)\n"
     ]
    }
   ],
   "source": [
    "from PIL import Image\n",
    "def img_show(img):\n",
    "    pil_img=Image.fromarray(np.uint8(img))\n",
    "    pil_img.show()\n",
    "\n",
    "(x_train,t_train),(x_text,t_text)=load_mnist(flatten=True,normalize=False)\n",
    "img=x_train[0]\n",
    "label=t_train[0]\n",
    "print(label)\n",
    "print(img.shape)\n",
    "img=img.reshape(28,28)\n",
    "print(img.shape)\n",
    "img_show(img)"
   ]
  },
  {
   "cell_type": "code",
   "execution_count": 12,
   "id": "b297b10d-ef4b-4d1f-b13e-7d9bf83db58f",
   "metadata": {},
   "outputs": [],
   "source": [
    "def get_data():\n",
    "    (x_train,t_train),(x_test,t_test)=\\\n",
    "       load_mnist(normalize=True,flatten=True,one_hot_label=False)\n",
    "    return x_test,t_test"
   ]
  },
  {
   "cell_type": "code",
   "execution_count": 13,
   "id": "3f198a8f-b9b7-456e-a23d-638f82e744ed",
   "metadata": {},
   "outputs": [],
   "source": [
    "def init_network():\n",
    "    with open(\"sample_weight.pkl\",'rb') as f:  ##此处照搬已经调整完成的参数，在此假设已经完成了神经网络的学习\n",
    "        network=pickle.load(f)\n",
    "    return network"
   ]
  },
  {
   "cell_type": "code",
   "execution_count": 22,
   "id": "7eb6b616-8319-4237-8ba2-57d20bbf5611",
   "metadata": {},
   "outputs": [],
   "source": [
    "def predict(network,x):\n",
    "    W1,W2,W3=network['W1'],network['W2'],network['W3']\n",
    "    b1,b2,b3=network['b1'],network['b2'],network['b3']\n",
    "    a1=np.dot(x,W1)+b1\n",
    "    z1=sigmoid(a1)\n",
    "    a2=np.dot(z1,W2)+b2\n",
    "    z2=sigmoid(a2)\n",
    "    a3=np.dot(z2,W3)+b3\n",
    "    y=softmax(a3)\n",
    "    return y"
   ]
  },
  {
   "cell_type": "code",
   "execution_count": 24,
   "id": "e9ad619d-4b72-4c8f-a259-a932d4fc9d66",
   "metadata": {},
   "outputs": [
    {
     "name": "stdout",
     "output_type": "stream",
     "text": [
      "accuracy:0.9352\n"
     ]
    }
   ],
   "source": [
    "x,t=get_data()\n",
    "network=init_network()\n",
    "accuracy_cnt=0\n",
    "for i in range(len(x)):\n",
    "    y=predict(network,x[i])\n",
    "    p=np.argmax(y)\n",
    "    if p==t[i]:\n",
    "        accuracy_cnt+=1\n",
    "print(\"accuracy:\"+str(float(accuracy_cnt)/len(x)))"
   ]
  },
  {
   "cell_type": "markdown",
   "id": "f871486f-3547-4ca1-9972-085ad262c954",
   "metadata": {},
   "source": [
    "#### 批处理"
   ]
  },
  {
   "cell_type": "code",
   "execution_count": 26,
   "id": "71405e7a-4f08-4fee-8765-b0e073773251",
   "metadata": {},
   "outputs": [
    {
     "name": "stdout",
     "output_type": "stream",
     "text": [
      "accuracy:0.9352\n"
     ]
    }
   ],
   "source": [
    "x,t=get_data()\n",
    "network=init_network()\n",
    "accuracy_cnt=0\n",
    "batch_size=100\n",
    "for i in range(0,len(x),batch_size):\n",
    "    x_batch=x[i:i+batch_size]\n",
    "    y_batch=predict(network,x_batch)\n",
    "    p=np.argmax(y_batch,axis=1)\n",
    "    accuracy_cnt+=np.sum(p==t[i:i+batch_size])\n",
    "print(\"accuracy:\"+str(float(accuracy_cnt)/len(x)))"
   ]
  },
  {
   "cell_type": "markdown",
   "id": "ec8ad5b3-db08-4aca-9434-f47d6aec9f5f",
   "metadata": {},
   "source": [
    "# 神经网络的学习"
   ]
  },
  {
   "cell_type": "markdown",
   "id": "92ca37ed-304b-413b-aab5-cfd8893c247c",
   "metadata": {},
   "source": [
    "## 损失函数"
   ]
  },
  {
   "cell_type": "markdown",
   "id": "d4b5ac15-fba5-4800-b56d-97764222a947",
   "metadata": {},
   "source": [
    "### 均方误差"
   ]
  },
  {
   "cell_type": "code",
   "execution_count": 1,
   "id": "a6634e90-a5a5-471f-a70d-012f9dc877b4",
   "metadata": {},
   "outputs": [],
   "source": [
    "## y是输出的列表，其中元素代表概率，t是所有可能性的独热编码\n",
    "def mean_squared_error(y,t):\n",
    "    return 0.5*(np.sum((y-t)**2))"
   ]
  },
  {
   "cell_type": "markdown",
   "id": "104aa9a8-a957-4d49-9573-2a6453516c13",
   "metadata": {},
   "source": [
    "### 交叉熵误差"
   ]
  },
  {
   "cell_type": "code",
   "execution_count": 4,
   "id": "10155f92-e09d-42a6-bce4-71709d4746c1",
   "metadata": {},
   "outputs": [],
   "source": [
    "def cross_entropy_error(y,t):\n",
    "    delta=1e-7\n",
    "    return -1*(np.sum(t*np.log(y+delta)))"
   ]
  },
  {
   "cell_type": "markdown",
   "id": "e7a9032b-675b-4c9d-8dc2-e882db8e925c",
   "metadata": {},
   "source": [
    "### mini batch"
   ]
  },
  {
   "cell_type": "code",
   "execution_count": 8,
   "id": "4b08fdb9-79db-4d45-8547-a2de94aa1d28",
   "metadata": {},
   "outputs": [],
   "source": [
    "train_size=x_train.shape[0]\n",
    "batch_size=10\n",
    "batch_mask=np.random.choice(train_size,batch_size)\n",
    "x_batch=x_train[batch_mask]  ##python 花式索引\n",
    "t_batch=t_train[batch_mask]"
   ]
  },
  {
   "cell_type": "markdown",
   "id": "1a24a904-231d-4c7b-a28c-9ab46747e2aa",
   "metadata": {},
   "source": [
    "### mini batch 实现交叉熵误差"
   ]
  },
  {
   "cell_type": "markdown",
   "id": "9dc67cd7-c6dd-477b-91c1-8be3c380a71c",
   "metadata": {},
   "source": [
    "#### 独热编码形式"
   ]
  },
  {
   "cell_type": "code",
   "execution_count": 1,
   "id": "3d7aaee2-46cd-4906-bca8-0fdfbd27440e",
   "metadata": {},
   "outputs": [],
   "source": [
    "def cross_entropy_error(y,t):\n",
    "    if y.ndim==1:\n",
    "        t.reshape(1,t.size)\n",
    "        y.reshape(1,t.size)\n",
    "    batch_size=y.shape[0]\n",
    "    return -np.sum(t*np.log(y+1e-7))/batch_size"
   ]
  },
  {
   "cell_type": "markdown",
   "id": "09bde2a8-f49e-4b8d-b5a7-1a09340b983c",
   "metadata": {},
   "source": [
    "#### 标签形式"
   ]
  },
  {
   "cell_type": "code",
   "execution_count": 2,
   "id": "ed7cd2d0-64a8-4b59-a0b4-e8be70110763",
   "metadata": {},
   "outputs": [],
   "source": [
    "def cross_entropy_error(y,t):\n",
    "    if y.ndim==1:\n",
    "        t.reshape(1,t.size)\n",
    "        y.reshape(1,t.size)\n",
    "    batch_size=y.shape[0]\n",
    "    return -np.sum(np.log(y[np.arange(batch_size),t]+1e-7))/batch_size  ##NumPy 的高级索引"
   ]
  },
  {
   "cell_type": "markdown",
   "id": "fab571be-d240-4523-b3f0-4c2abb1df496",
   "metadata": {},
   "source": [
    "## 梯度下降"
   ]
  },
  {
   "cell_type": "code",
   "execution_count": 22,
   "id": "06ac7ee2-7768-45e1-88f4-d38ed8908e96",
   "metadata": {},
   "outputs": [],
   "source": [
    "def numerical_gradient(f, x):\n",
    "    h = 1e-4 # 0.0001\n",
    "    grad = np.zeros_like(x) # 生成和x形状相同的数组\n",
    "    for idx in range(x.size):\n",
    "        tmp_val = x[idx]\n",
    "        x[idx] = tmp_val + h\n",
    "        fxh1 = f(x)\n",
    "        x[idx] = tmp_val - h\n",
    "        fxh2 = f(x)\n",
    "        grad[idx] = (fxh1 - fxh2) / (2*h)\n",
    "        x[idx] = tmp_val \n",
    "    return grad"
   ]
  },
  {
   "cell_type": "code",
   "execution_count": 6,
   "id": "873e0cf9-9bae-486a-9cbc-4e69aaa62ef2",
   "metadata": {},
   "outputs": [],
   "source": [
    "def gradient_descent(f,init_x,step_num=100,lr=0.01):\n",
    "    x=init_x\n",
    "    for i in range (step_num):\n",
    "        grad=numerical_gradient(f,x)\n",
    "        x-=lr*grad\n",
    "    return x"
   ]
  },
  {
   "cell_type": "code",
   "execution_count": null,
   "id": "748eb406-3c4f-4897-9acc-3b9ae0939912",
   "metadata": {},
   "outputs": [],
   "source": [
    "### 用梯度下降求一个函数的最小值"
   ]
  },
  {
   "cell_type": "code",
   "execution_count": 13,
   "id": "34866fa0-8e6b-442a-8fda-4ff39bf2ec96",
   "metadata": {},
   "outputs": [],
   "source": [
    "def function_2(x):\n",
    "    return x[0]**2+x[1]**2"
   ]
  },
  {
   "cell_type": "code",
   "execution_count": 28,
   "id": "d08a1940-5af4-4576-b05b-ce29a2d3292c",
   "metadata": {},
   "outputs": [
    {
     "data": {
      "text/plain": [
       "array([-0.39785867, -0.53047822])"
      ]
     },
     "execution_count": 28,
     "metadata": {},
     "output_type": "execute_result"
    }
   ],
   "source": [
    "init_x=np.array([-3.0,-4.0])\n",
    "res=gradient_descent(function_2,init_x,step_num=100,lr=0.01)\n",
    "res"
   ]
  },
  {
   "cell_type": "markdown",
   "id": "39a957e8-1a44-4a7d-bfe8-58fe0b7c25c1",
   "metadata": {},
   "source": [
    "### 神经网络的梯度"
   ]
  },
  {
   "cell_type": "code",
   "execution_count": null,
   "id": "98337392-1e7d-43e3-93ba-390a9f8020a4",
   "metadata": {},
   "outputs": [],
   "source": [
    "import sys,os\n",
    "sys.path.append(os.pardir)\n",
    "import numpy as np\n",
    "from common.functions import softmax, cross_entropy_error\n",
    "from common.gradient import numerical_gradient\n"
   ]
  },
  {
   "cell_type": "code",
   "execution_count": null,
   "id": "efcf61bd-51a8-423f-9108-e1ddf58d3b89",
   "metadata": {},
   "outputs": [],
   "source": []
  },
  {
   "cell_type": "code",
   "execution_count": null,
   "id": "73133ba9-945b-4d25-a8d0-48d56e46382b",
   "metadata": {},
   "outputs": [],
   "source": []
  },
  {
   "cell_type": "code",
   "execution_count": null,
   "id": "c4b86ad6-19c7-4bd6-8e3b-41a97226f861",
   "metadata": {},
   "outputs": [],
   "source": []
  },
  {
   "cell_type": "code",
   "execution_count": null,
   "id": "b997688c-0041-4069-866a-7c910267ce73",
   "metadata": {},
   "outputs": [],
   "source": []
  },
  {
   "cell_type": "code",
   "execution_count": null,
   "id": "c97ec3f6-7cd9-42e1-90ab-b6779128d36a",
   "metadata": {},
   "outputs": [],
   "source": []
  },
  {
   "cell_type": "code",
   "execution_count": null,
   "id": "72e835b9-b01f-4d26-805d-c981343c8f5c",
   "metadata": {},
   "outputs": [],
   "source": []
  },
  {
   "cell_type": "code",
   "execution_count": null,
   "id": "78128b99-9edc-40d3-b68c-e78c7bb405a4",
   "metadata": {},
   "outputs": [],
   "source": []
  },
  {
   "cell_type": "code",
   "execution_count": null,
   "id": "6e282863-8c3a-44ac-88ca-da7010b89736",
   "metadata": {},
   "outputs": [],
   "source": []
  },
  {
   "cell_type": "code",
   "execution_count": null,
   "id": "a59322ca-528c-4b7c-9419-3f283586ee7b",
   "metadata": {},
   "outputs": [],
   "source": []
  },
  {
   "cell_type": "code",
   "execution_count": null,
   "id": "09b1659f-cc02-4316-8c29-58a3ed43e570",
   "metadata": {},
   "outputs": [],
   "source": []
  },
  {
   "cell_type": "code",
   "execution_count": null,
   "id": "9f52dbd6-ec65-4563-be99-80cf9702aabb",
   "metadata": {},
   "outputs": [],
   "source": []
  }
 ],
 "metadata": {
  "kernelspec": {
   "display_name": "Python 3 (ipykernel)",
   "language": "python",
   "name": "python3"
  },
  "language_info": {
   "codemirror_mode": {
    "name": "ipython",
    "version": 3
   },
   "file_extension": ".py",
   "mimetype": "text/x-python",
   "name": "python",
   "nbconvert_exporter": "python",
   "pygments_lexer": "ipython3",
   "version": "3.13.7"
  }
 },
 "nbformat": 4,
 "nbformat_minor": 5
}
