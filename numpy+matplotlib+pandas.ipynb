{
 "cells": [
  {
   "cell_type": "markdown",
   "id": "a3e83c55-0ecc-4229-8da3-f931680062f5",
   "metadata": {
    "jp-MarkdownHeadingCollapsed": true
   },
   "source": [
    "# numpy"
   ]
  },
  {
   "cell_type": "code",
   "execution_count": 2,
   "id": "114f0c7e-b743-4d5f-890d-9d64d4fea250",
   "metadata": {},
   "outputs": [],
   "source": [
    "import numpy as np"
   ]
  },
  {
   "cell_type": "code",
   "execution_count": 17,
   "id": "da3442ab-700c-43a9-b3bf-4bf6353645fd",
   "metadata": {},
   "outputs": [
    {
     "name": "stdout",
     "output_type": "stream",
     "text": [
      "arr: 5\n",
      "dimension: 0\n"
     ]
    }
   ],
   "source": [
    "##创建0维\n",
    "arr=np.array(5) \n",
    "print('arr:',arr)\n",
    "print('dimension:',arr.ndim ) ##维度"
   ]
  },
  {
   "cell_type": "code",
   "execution_count": 11,
   "id": "139d8d76-5713-410a-8b84-e71531ffaa93",
   "metadata": {},
   "outputs": [
    {
     "name": "stdout",
     "output_type": "stream",
     "text": [
      "arr1 [1 2 3]\n",
      "dimension: 1\n"
     ]
    }
   ],
   "source": [
    " ##创建一维\n",
    "arr1=np.array([1,2,3])\n",
    "print('arr1',arr1)\n",
    "print('dimension:',arr1.ndim)"
   ]
  },
  {
   "cell_type": "code",
   "execution_count": 14,
   "id": "394b1daf-d1df-435a-92e5-30d91f15c3f6",
   "metadata": {},
   "outputs": [
    {
     "name": "stdout",
     "output_type": "stream",
     "text": [
      "arr2: [[123]\n",
      " [456]]\n",
      "dimension: 2\n"
     ]
    }
   ],
   "source": [
    "##创建二维\n",
    "arr2=np.array([[123],[456]])  \n",
    "print('arr2:',arr2)\n",
    "print('dimension:',arr2.ndim)"
   ]
  },
  {
   "cell_type": "markdown",
   "id": "21c87540-111b-4f8a-b54e-a9e8725e10de",
   "metadata": {},
   "source": [
    "## ndarray属性\n",
    "\n",
    "## shape 形状\n",
    "## ndim 维度\n",
    "## size 总元素个数\n",
    "## dtype 元素类型\n",
    "## T 转置\n",
    "\n"
   ]
  },
  {
   "cell_type": "code",
   "execution_count": 21,
   "id": "82c02b41-0d8b-4704-b2cf-8aedef21bb16",
   "metadata": {},
   "outputs": [
    {
     "name": "stdout",
     "output_type": "stream",
     "text": [
      "arr2: [[123]\n",
      " [456]]\n",
      "shape: (2, 1)\n",
      "dimension: 2\n",
      "size: 2\n",
      "datatype: int64\n"
     ]
    }
   ],
   "source": [
    "arr2=np.array([[123],[456]])  ##创建二维\n",
    "print('arr2:',arr2)\n",
    "print('shape:',arr2.shape)\n",
    "print('dimension:',arr2.ndim)\n",
    "print('size:',arr2.size)\n",
    "print('datatype:',arr2.dtype)"
   ]
  },
  {
   "cell_type": "markdown",
   "id": "4fc93783-c4cd-4167-9957-c3c027c047ba",
   "metadata": {},
   "source": [
    "## ndarray创建方式\n",
    "\n",
    "## 基础构造生成 np.array([])  np.copy()\n",
    "## 预设数字构造 np.zeros()  np.ones()  np.full()\n",
    "## 数值范围生成 np.arange()\n",
    "## 随机数组生成 np.random.rand()  np.random.uniform()  np.random.randn()  np.random.randint()"
   ]
  },
  {
   "cell_type": "code",
   "execution_count": 24,
   "id": "a88b6f61-3e97-4a4c-b8b5-77898eb04f82",
   "metadata": {},
   "outputs": [
    {
     "name": "stdout",
     "output_type": "stream",
     "text": [
      "[1 2 3]\n",
      "[1 2 3]\n"
     ]
    }
   ],
   "source": [
    "##基础构造\n",
    "arr=np.array([1,2,3])\n",
    "\n",
    "##拷贝\n",
    "arr1=np.copy(arr)\n",
    "\n",
    "print(arr)\n",
    "print(arr1)"
   ]
  },
  {
   "cell_type": "code",
   "execution_count": 34,
   "id": "5635a113-aa05-45ad-9436-4df7d154327d",
   "metadata": {},
   "outputs": [
    {
     "name": "stdout",
     "output_type": "stream",
     "text": [
      "[[0. 0. 0.]\n",
      " [0. 0. 0.]] \n",
      "\n",
      "[[1. 1.]\n",
      " [1. 1.]\n",
      " [1. 1.]] \n",
      "\n",
      "[[8 8 8 8]\n",
      " [8 8 8 8]\n",
      " [8 8 8 8]]\n"
     ]
    }
   ],
   "source": [
    "##预设数字构造\n",
    "\n",
    "##全零，参数是(（行，列）)\n",
    "arr0=np.zeros((2,3))\n",
    "\n",
    "##全1，参数是（（行，列））\n",
    "arr1=np.ones((3,2))\n",
    "\n",
    "##指定其他数值填充,参数是（（行，列），填充数字）\n",
    "arr8=np.full((3,4),8)\n",
    "\n",
    "print(arr0,'\\n')\n",
    "print(arr1,'\\n')\n",
    "print(arr8)"
   ]
  },
  {
   "cell_type": "code",
   "execution_count": 47,
   "id": "9684e636-4faf-4297-a07b-6307fa62188b",
   "metadata": {},
   "outputs": [
    {
     "name": "stdout",
     "output_type": "stream",
     "text": [
      "[[0.5881308  0.89771373 0.89153073]\n",
      " [0.81583748 0.03588959 0.69175758]] \n",
      "\n",
      "[[3.37868094 3.51851095 3.65795147]\n",
      " [3.19385022 3.2723164  3.71860593]] \n",
      "\n",
      "[[ 0.50309684  0.40641447  0.32346101]\n",
      " [-0.49341088 -0.79201679 -0.84236793]\n",
      " [-1.27950266  0.24571517 -0.0441948 ]] \n",
      "\n",
      "[[7 8 6]\n",
      " [5 8 5]]\n"
     ]
    }
   ],
   "source": [
    "##随机数组生成（正态分布，均匀分布）\n",
    "\n",
    "##均匀分布（0-1之间） 参数为（行，列）\n",
    "arr=np.random.rand(2,3)\n",
    "\n",
    "##均匀分布（指定区间） 参数为（范围，范围，（行，列））\n",
    "arr1=np.random.uniform(3,4,(2,3))\n",
    "\n",
    "##正态分布 参数为（行，列）\n",
    "arr2=np.random.randn(3,3)\n",
    "\n",
    "##生成随机整数 参数为（范围，范围，（行，列））\n",
    "arr3=np.random.randint(5,10,(2,3))\n",
    "\n",
    "##设置随机种子保证每次生成的内容一样\n",
    "np.random.seed(20)\n",
    "\n",
    "print(arr,'\\n')\n",
    "print(arr1,'\\n')\n",
    "print(arr2,'\\n')\n",
    "print(arr3)"
   ]
  },
  {
   "cell_type": "markdown",
   "id": "9035e92d-469d-438a-a376-8212aaeca806",
   "metadata": {},
   "source": [
    "## 索引和切片\n",
    "\n",
    "## 基本索引 通过索引从0开始访问元素  arr[0]\n",
    "## 行/列切片 使用冒号：切片语法选择行或列的子集  arr[:]\n",
    "## 连续切片 从开始到结束按照步长切片\n",
    "## slice函数 通过slice(start,stop,stop)切片\n",
    "## 布尔索引"
   ]
  },
  {
   "cell_type": "code",
   "execution_count": 3,
   "id": "d943bb91-89dc-496b-87f6-4749b117baa5",
   "metadata": {},
   "outputs": [
    {
     "name": "stdout",
     "output_type": "stream",
     "text": [
      "[6 4 7 6 3 6 8 4 3 3 6 4 9 4 5 5 8 8 3 5]\n",
      "[7 6 3 6]\n",
      "[6 4 6 6 4 6 4 4 5 5 5]\n"
     ]
    }
   ],
   "source": [
    "##获取一定范围内的array数据 利用冒号arr[左区间:右区间]\n",
    "arr=np.random.randint(1,10,20)\n",
    "arr1=arr[2:6]  ##左闭右开区间\n",
    "\n",
    "##二维数组也是一样的，比如取第二行的2-4个数字：arr[1,2:5]\n",
    "##列数据同理，比如第二列：arr[:,3]\n",
    "\n",
    "##布尔索引（举个例子就明白了）\n",
    "arr2=arr[(arr>3)&(arr<7)]\n",
    "\n",
    "print(arr)\n",
    "print(arr1)\n",
    "print(arr2)"
   ]
  },
  {
   "cell_type": "markdown",
   "id": "7f96acbd-2385-4f70-bb01-ce2d8d4e6d9f",
   "metadata": {},
   "source": [
    "## ndarray运算\n",
    "## 算术运算：python原生相加，其实是拼接；如果是ndarray，那就是算术加法\n",
    "## 其余不常用\n",
    "--------------------------------------------------------------------------\n"
   ]
  },
  {
   "cell_type": "markdown",
   "id": "11f98ee5-7d24-4f1e-8330-8912af439410",
   "metadata": {},
   "source": [
    "## numpy常用函数\n",
    "## 平方根 np.sqrt()\n",
    "## 计算指数（e为底） np.exp()\n",
    "## 计算对数（e为底） np.log()\n",
    "## 计算三角函数 np.sin() np.cos()\n",
    "## 计算绝对值 np.abs()\n",
    "## 计算a的b次方 np.power(,) 参数为(a,b)\n",
    "## 四舍五入 np.round()\n",
    "## 检测缺失值 np.isnan()， 参数为（列表）\n",
    "————————————————————————————————————————————————————————————————————————————————————————————————————————————————————————————————————————————————————\n"
   ]
  },
  {
   "cell_type": "markdown",
   "id": "c56a07c5-fd50-417c-94e4-7ed7a6c52c75",
   "metadata": {},
   "source": [
    "## numpy统计函数\n",
    "## 求和  np.sum()，参数为（a，b，c，...）\n",
    "## 平均值  np.mean()，参数为（a，b，c，...）\n",
    "## 中位数  np.median\n",
    "## 标准差 np.var()\n",
    "## 方差  np.std()\n",
    "## 最大最小值  np.max()  np.min()\n",
    "——————————————————————————————————————————————————————————————————————————————————————————————————————————————"
   ]
  },
  {
   "cell_type": "markdown",
   "id": "8348a8a8-de0f-4533-954c-b3bb5ad70b83",
   "metadata": {},
   "source": [
    "## numpy比较函数\n",
    "## 大于小于等于  np.greater()，np.less(), np.equal()  参数为（列表，数字），返回值为一个true/false的列表\n",
    "## 与或非  np.logical_and, np.logical_not(), np.logical_or()\n",
    "## 检查数组中是否有true  np.any()\n",
    "## 检查数组中是否全为true  np.all()\n",
    "## 自定义函数  np.where()，参数为（条件）\n",
    "——————————————————————————————————————————————————————————————————————————————————————————————"
   ]
  },
  {
   "cell_type": "markdown",
   "id": "41e37026-96cf-477c-9929-7235eb81b492",
   "metadata": {},
   "source": [
    "# pandas"
   ]
  },
  {
   "cell_type": "markdown",
   "id": "4fbcd115-4d25-4fbf-adfd-fb7b655ff12a",
   "metadata": {},
   "source": [
    "## 1.series: 索引+数值\n",
    "\n"
   ]
  },
  {
   "cell_type": "code",
   "execution_count": 7,
   "id": "b1ebc1cb-eae9-4543-acdb-795658455af9",
   "metadata": {},
   "outputs": [],
   "source": [
    "import pandas as pd"
   ]
  },
  {
   "cell_type": "code",
   "execution_count": 11,
   "id": "6de913a4-dd3b-41ab-9cae-984aa3331f3e",
   "metadata": {},
   "outputs": [
    {
     "name": "stdout",
     "output_type": "stream",
     "text": [
      "A    1\n",
      "B    2\n",
      "C    3\n",
      "D    4\n",
      "E    5\n",
      "dtype: int64\n"
     ]
    }
   ],
   "source": [
    "##  创建series，第一列是索引,不设置索引默认为数字索引\n",
    "s=pd.Series([1,2,3,4,5],index=['A','B','C','D','E'])\n",
    "print(s)"
   ]
  },
  {
   "cell_type": "markdown",
   "id": "ff1cca88-f92c-4066-85fa-981a426bf2c1",
   "metadata": {},
   "source": [
    "### Series常用属性\n",
    "### index 索引\n",
    "### values 数值\n",
    "### dtype 元素类型\n",
    "### shape 形状\n",
    "### shape 形状\n",
    "### loc[] 显式索引\n",
    "### iloc[] 隐式索引\n",
    "### head 默认前五行数据"
   ]
  },
  {
   "cell_type": "code",
   "execution_count": 14,
   "id": "1619643e-ecdc-4974-b2e9-1fba023e8b55",
   "metadata": {},
   "outputs": [
    {
     "name": "stdout",
     "output_type": "stream",
     "text": [
      "0    1\n",
      "1    2\n",
      "2    3\n",
      "3    4\n",
      "4    5\n",
      "dtype: int64\n",
      "index:  RangeIndex(start=0, stop=5, step=1)\n",
      "values:  [1 2 3 4 5]\n",
      "type:  int64\n",
      "shape:  (5,)\n",
      "s[1]:  2\n"
     ]
    }
   ],
   "source": [
    "s=pd.Series([1,2,3,4,5])\n",
    "print(s)\n",
    "print('index: ',s.index)\n",
    "print('values: ',s.values)\n",
    "print('type: ',s.dtype)\n",
    "print('shape: ',s.shape)\n",
    "print('s[1]: ',s.loc[1])"
   ]
  },
  {
   "cell_type": "markdown",
   "id": "a6fa2710-d63e-4663-9b35-1a4813073a65",
   "metadata": {},
   "source": [
    "### Series常用函数\n",
    "### 查看头部数据  head()\n",
    "### 判断元素是否包含在内  isin()\n",
    "### 判断是否为缺失值  isna()\n",
    "### 求和  sum()\n",
    "### 平均值  mean()\n",
    "### 最大最小值  max(), min()\n",
    "### 其他与ndarray类似\n",
    "### 一个值的数量  value_counts()\n",
    "### 去重后的数组  unique()\n",
    "### 去除重复项  drop_duplicates()\n"
   ]
  },
  {
   "cell_type": "code",
   "execution_count": 44,
   "id": "f13a002a-7719-45b3-a5a4-47c72629cf61",
   "metadata": {},
   "outputs": [
    {
     "name": "stdout",
     "output_type": "stream",
     "text": [
      "0    1.0\n",
      "1    2.0\n",
      "2    3.0\n",
      "3    4.0\n",
      "4    NaN\n",
      "5    NaN\n",
      "6    5.0\n",
      "7    6.0\n",
      "dtype: float64\n",
      "head\n",
      "0    1.0\n",
      "1    2.0\n",
      "2    3.0\n",
      "3    4.0\n",
      "4    NaN\n",
      "dtype: float64\n",
      "isna\n",
      "0    False\n",
      "1    False\n",
      "2    False\n",
      "3    False\n",
      "4     True\n",
      "5     True\n",
      "6    False\n",
      "7    False\n",
      "dtype: bool\n",
      "isin\n",
      "0    False\n",
      "1    False\n",
      "2    False\n",
      "3     True\n",
      "4    False\n",
      "5    False\n",
      "6    False\n",
      "7    False\n",
      "dtype: bool\n",
      "sum\n",
      "21.0\n",
      "mean\n",
      "3.5\n",
      "std\n",
      "1.8708286933869707\n",
      "max\n",
      "6.0\n",
      "value_count\n",
      "1.0    1\n",
      "2.0    1\n",
      "3.0    1\n",
      "4.0    1\n",
      "5.0    1\n",
      "6.0    1\n",
      "Name: count, dtype: int64\n"
     ]
    }
   ],
   "source": [
    "s=pd.Series([1,2,3,4,np.nan, None, 5,6])\n",
    "print(s)\n",
    "print('head')\n",
    "print(s.head())\n",
    "print('isna')\n",
    "print(s.isna())  #判断缺失值\n",
    "print('isin')\n",
    "print(s.isin([4]))  #判断元素是否在内\n",
    "print('sum')\n",
    "print(s.sum())\n",
    "print('mean')\n",
    "print(s.mean())\n",
    "print('std')\n",
    "print(s.std())\n",
    "print('max')\n",
    "print(s.max())\n",
    "print('value_count')\n",
    "print(s.value_counts())"
   ]
  },
  {
   "cell_type": "code",
   "execution_count": null,
   "id": "e8fdc3b7-773e-4990-8750-e0cbd57de2a8",
   "metadata": {},
   "outputs": [],
   "source": [
    "## DataFrame"
   ]
  },
  {
   "cell_type": "code",
   "execution_count": 45,
   "id": "b58e1616-82aa-4045-98c9-aafe13aca7a9",
   "metadata": {},
   "outputs": [],
   "source": [
    "## 创建DataFrame\n",
    "import pandas as pd\n",
    "import numpy as np"
   ]
  },
  {
   "cell_type": "code",
   "execution_count": 53,
   "id": "babd57aa-cd41-45b3-8c04-bff23ad96d97",
   "metadata": {},
   "outputs": [
    {
     "name": "stdout",
     "output_type": "stream",
     "text": [
      "   第一列  第二列\n",
      "0    1    6\n",
      "1    2    7\n",
      "2    3    8\n",
      "3    4    9\n",
      "4    5   10\n",
      "     id   name age\n",
      "001   1    tom  19\n",
      "002   2    bob  20\n",
      "003   3  alice  18\n"
     ]
    }
   ],
   "source": [
    "## 通过Series创建\n",
    "s1=pd.Series([1,2,3,4,5])\n",
    "s2=pd.Series([6,7,8,9,10])\n",
    "df=pd.DataFrame({'第一列':s1,'第二列':s2})\n",
    "print(df)\n",
    "\n",
    "## 通过字典创建\n",
    "df2=pd.DataFrame({'id':[1,2,3],'name':['tom','bob','alice'],'age':['19','20','18']},index=['001','002','003'])\n",
    "print(df2)"
   ]
  },
  {
   "cell_type": "markdown",
   "id": "351cd013-d18c-4d04-8ed6-4f7241db2fe0",
   "metadata": {},
   "source": [
    "## 2.DataFrame属性名与Series基本一致"
   ]
  },
  {
   "cell_type": "markdown",
   "id": "cf206f15-4340-40e6-874f-87f65ebcea12",
   "metadata": {},
   "source": [
    "### 访问DataFrame元素"
   ]
  },
  {
   "cell_type": "code",
   "execution_count": 55,
   "id": "b50a727d-76a4-45f9-9003-10cc0a16b406",
   "metadata": {},
   "outputs": [
    {
     "name": "stdout",
     "output_type": "stream",
     "text": [
      "001      tom\n",
      "002      bob\n",
      "003    alice\n",
      "Name: name, dtype: object\n"
     ]
    }
   ],
   "source": [
    "## 获取单列数据\n",
    "df2=pd.DataFrame({'id':[1,2,3],'name':['tom','bob','alice'],'age':['19','20','18']},index=['001','002','003'])\n",
    "print(df2['name'])"
   ]
  },
  {
   "cell_type": "markdown",
   "id": "b22d76bc-6cc4-414c-bef7-131f3e29581c",
   "metadata": {},
   "source": [
    "## 利用pandas进行数据分析"
   ]
  },
  {
   "cell_type": "markdown",
   "id": "82857bba-0a97-4838-85c0-cf7c01fbbb85",
   "metadata": {},
   "source": [
    "### 数据处理"
   ]
  },
  {
   "cell_type": "code",
   "execution_count": 11,
   "id": "89b4a704-1e63-4008-bebf-62ef015dbd06",
   "metadata": {},
   "outputs": [],
   "source": [
    "import pandas as pd\n",
    "import numpy as np"
   ]
  },
  {
   "cell_type": "code",
   "execution_count": 10,
   "id": "fec4d661-6417-45ce-95bd-e629655fede2",
   "metadata": {},
   "outputs": [
    {
     "name": "stdout",
     "output_type": "stream",
     "text": [
      "6461.682242990654\n"
     ]
    }
   ],
   "source": [
    "#数据导入\n",
    "df=pd.read_csv('D:/Desktop/employees.csv')\n",
    "df.head()"
   ]
  },
  {
   "cell_type": "code",
   "execution_count": null,
   "id": "5fe1aeb7-8202-49c3-bf31-efabeb943776",
   "metadata": {},
   "outputs": [],
   "source": [
    "# 缺失值处理\n",
    "# 统计缺失值 pd.isnull().sum()\n",
    "# 填充缺失值 data=data.fillna(参数)\n",
    "# 删除缺失严重列"
   ]
  },
  {
   "cell_type": "code",
   "execution_count": null,
   "id": "0f03ba11-9b0d-40ca-a58b-ebeab82b2a9f",
   "metadata": {},
   "outputs": [],
   "source": [
    "# 重复数据处理\n",
    "df.duplicated()\n",
    "df.drop_duplicates()\n"
   ]
  },
  {
   "cell_type": "code",
   "execution_count": null,
   "id": "bdf15824-b516-435a-9f0a-586397438d7a",
   "metadata": {},
   "outputs": [],
   "source": [
    "# 数据类型转换"
   ]
  },
  {
   "cell_type": "code",
   "execution_count": 21,
   "id": "d7deb26c-6c9f-4a85-a413-658a68f632d5",
   "metadata": {},
   "outputs": [
    {
     "name": "stdout",
     "output_type": "stream",
     "text": [
      "   employee_id   salary\n",
      "0          100  24000.0\n",
      "1          101  17000.0\n",
      "2          102  17000.0\n",
      "3          103   9000.0\n",
      "4          104   6000.0\n",
      "5          105   4800.0\n",
      "6          106   4800.0\n",
      "7          107   4200.0\n",
      "8          108  12000.0\n",
      "9          109   9000.0\n"
     ]
    },
    {
     "data": {
      "text/plain": [
       "salary\n",
       "(4180.2, 14100.0]     7\n",
       "(14100.0, 24000.0]    3\n",
       "Name: count, dtype: int64"
      ]
     },
     "execution_count": 21,
     "metadata": {},
     "output_type": "execute_result"
    }
   ],
   "source": [
    "# 数据分箱  pd.cut(x,bins,label)\n",
    "df.head()\n",
    "df1=df.head(10)[['employee_id','salary']]\n",
    "print(df1)\n",
    "pd.cut(df1['salary'],bins=2).value_counts()\n"
   ]
  },
  {
   "cell_type": "code",
   "execution_count": 28,
   "id": "c9aa259f-ee8f-4bae-9642-9b1cd8f8d05c",
   "metadata": {},
   "outputs": [
    {
     "name": "stdout",
     "output_type": "stream",
     "text": [
      "2025-09-18 14:37:00\n",
      "<class 'pandas._libs.tslibs.timestamps.Timestamp'>\n",
      "2025 9 18 14 37\n"
     ]
    }
   ],
   "source": [
    "# 时间数据处理\n",
    "d=pd.Timestamp('2025-09-18 14:37')\n",
    "print(d)\n",
    "print(type(d))\n",
    "print(d.year,d.month,d.day,d.hour,d.minute)"
   ]
  },
  {
   "cell_type": "code",
   "execution_count": 61,
   "id": "3f62d873-f632-463e-a8cc-a6f742abdb0e",
   "metadata": {},
   "outputs": [
    {
     "data": {
      "text/html": [
       "<div>\n",
       "<style scoped>\n",
       "    .dataframe tbody tr th:only-of-type {\n",
       "        vertical-align: middle;\n",
       "    }\n",
       "\n",
       "    .dataframe tbody tr th {\n",
       "        vertical-align: top;\n",
       "    }\n",
       "\n",
       "    .dataframe thead th {\n",
       "        text-align: right;\n",
       "    }\n",
       "</style>\n",
       "<table border=\"1\" class=\"dataframe\">\n",
       "  <thead>\n",
       "    <tr style=\"text-align: right;\">\n",
       "      <th></th>\n",
       "      <th></th>\n",
       "      <th>salary</th>\n",
       "    </tr>\n",
       "    <tr>\n",
       "      <th>department_id</th>\n",
       "      <th>job_id</th>\n",
       "      <th></th>\n",
       "    </tr>\n",
       "  </thead>\n",
       "  <tbody>\n",
       "    <tr>\n",
       "      <th>10</th>\n",
       "      <th>AD_ASST</th>\n",
       "      <td>4400.000000</td>\n",
       "    </tr>\n",
       "    <tr>\n",
       "      <th rowspan=\"2\" valign=\"top\">20</th>\n",
       "      <th>MK_MAN</th>\n",
       "      <td>13000.000000</td>\n",
       "    </tr>\n",
       "    <tr>\n",
       "      <th>MK_REP</th>\n",
       "      <td>6000.000000</td>\n",
       "    </tr>\n",
       "    <tr>\n",
       "      <th rowspan=\"2\" valign=\"top\">30</th>\n",
       "      <th>PU_CLERK</th>\n",
       "      <td>2780.000000</td>\n",
       "    </tr>\n",
       "    <tr>\n",
       "      <th>PU_MAN</th>\n",
       "      <td>11000.000000</td>\n",
       "    </tr>\n",
       "    <tr>\n",
       "      <th>40</th>\n",
       "      <th>HR_REP</th>\n",
       "      <td>6500.000000</td>\n",
       "    </tr>\n",
       "    <tr>\n",
       "      <th rowspan=\"3\" valign=\"top\">50</th>\n",
       "      <th>SH_CLERK</th>\n",
       "      <td>3215.000000</td>\n",
       "    </tr>\n",
       "    <tr>\n",
       "      <th>ST_CLERK</th>\n",
       "      <td>2785.000000</td>\n",
       "    </tr>\n",
       "    <tr>\n",
       "      <th>ST_MAN</th>\n",
       "      <td>7280.000000</td>\n",
       "    </tr>\n",
       "    <tr>\n",
       "      <th>60</th>\n",
       "      <th>IT_PROG</th>\n",
       "      <td>5760.000000</td>\n",
       "    </tr>\n",
       "    <tr>\n",
       "      <th>70</th>\n",
       "      <th>PR_REP</th>\n",
       "      <td>10000.000000</td>\n",
       "    </tr>\n",
       "    <tr>\n",
       "      <th rowspan=\"2\" valign=\"top\">80</th>\n",
       "      <th>SA_MAN</th>\n",
       "      <td>12200.000000</td>\n",
       "    </tr>\n",
       "    <tr>\n",
       "      <th>SA_REP</th>\n",
       "      <td>8396.551724</td>\n",
       "    </tr>\n",
       "    <tr>\n",
       "      <th rowspan=\"2\" valign=\"top\">90</th>\n",
       "      <th>AD_PRES</th>\n",
       "      <td>24000.000000</td>\n",
       "    </tr>\n",
       "    <tr>\n",
       "      <th>AD_VP</th>\n",
       "      <td>17000.000000</td>\n",
       "    </tr>\n",
       "    <tr>\n",
       "      <th rowspan=\"2\" valign=\"top\">100</th>\n",
       "      <th>FI_ACCOUNT</th>\n",
       "      <td>7920.000000</td>\n",
       "    </tr>\n",
       "    <tr>\n",
       "      <th>FI_MGR</th>\n",
       "      <td>12000.000000</td>\n",
       "    </tr>\n",
       "    <tr>\n",
       "      <th rowspan=\"2\" valign=\"top\">110</th>\n",
       "      <th>AC_ACCOUNT</th>\n",
       "      <td>8300.000000</td>\n",
       "    </tr>\n",
       "    <tr>\n",
       "      <th>AC_MGR</th>\n",
       "      <td>12000.000000</td>\n",
       "    </tr>\n",
       "  </tbody>\n",
       "</table>\n",
       "</div>"
      ],
      "text/plain": [
       "                                salary\n",
       "department_id job_id                  \n",
       "10            AD_ASST      4400.000000\n",
       "20            MK_MAN      13000.000000\n",
       "              MK_REP       6000.000000\n",
       "30            PU_CLERK     2780.000000\n",
       "              PU_MAN      11000.000000\n",
       "40            HR_REP       6500.000000\n",
       "50            SH_CLERK     3215.000000\n",
       "              ST_CLERK     2785.000000\n",
       "              ST_MAN       7280.000000\n",
       "60            IT_PROG      5760.000000\n",
       "70            PR_REP      10000.000000\n",
       "80            SA_MAN      12200.000000\n",
       "              SA_REP       8396.551724\n",
       "90            AD_PRES     24000.000000\n",
       "              AD_VP       17000.000000\n",
       "100           FI_ACCOUNT   7920.000000\n",
       "              FI_MGR      12000.000000\n",
       "110           AC_ACCOUNT   8300.000000\n",
       "              AC_MGR      12000.000000"
      ]
     },
     "execution_count": 61,
     "metadata": {},
     "output_type": "execute_result"
    }
   ],
   "source": [
    "# 分组聚合  df.groupby('分组字段')['聚合字段'].聚合函数()\n",
    "df=pd.read_csv('D:/Desktop/employees.csv')\n",
    "# 舍弃缺失值，并转换类型为int\n",
    "df=df.dropna(subset=['department_id'])\n",
    "df['department_id']=df['department_id'].astype('int64')\n",
    "# 按照部门编号分组\n",
    "result=df.groupby('department_id').groups\n",
    "# 计算不同部门的平均薪资\n",
    "mean=df.groupby('department_id')[['salary']].mean()\n",
    "mean=mean.reset_index()\n",
    "mean.sort_values('salary',ascending=False)\n",
    "# 按照多个条件分组\n",
    "mean2=df.groupby(['department_id','job_id'])[['salary']].mean()\n",
    "mean2"
   ]
  },
  {
   "cell_type": "code",
   "execution_count": null,
   "id": "f758faa1-a8d3-4963-b9ad-b66928e81638",
   "metadata": {},
   "outputs": [],
   "source": [
    "# 数据导出\n"
   ]
  },
  {
   "cell_type": "markdown",
   "id": "6c783036-aab3-4088-9fe1-7ba82ccf60e8",
   "metadata": {},
   "source": [
    "# matplotlib"
   ]
  },
  {
   "cell_type": "markdown",
   "id": "b4cc6e36-3987-4495-bbb3-09c198a46d48",
   "metadata": {},
   "source": [
    "## 折线图 plot\n",
    "## 条形图 bar \n",
    "## 饼图 pie\n",
    "## 散点图 scatter\n",
    "## 多个图标\n",
    "## 组合图"
   ]
  },
  {
   "cell_type": "code",
   "execution_count": 3,
   "id": "64e40bb9-7173-443e-83ae-1c821ac6b4a5",
   "metadata": {},
   "outputs": [],
   "source": [
    "import matplotlib.pyplot as plt\n"
   ]
  },
  {
   "cell_type": "markdown",
   "id": "eea8b6f6-963f-4e7f-862a-c889fd582021",
   "metadata": {},
   "source": [
    "### 折线图plot"
   ]
  },
  {
   "cell_type": "code",
   "execution_count": 21,
   "id": "e2ff103d-67cc-406b-a5cb-ce1b8e1f948a",
   "metadata": {},
   "outputs": [
    {
     "name": "stdout",
     "output_type": "stream",
     "text": [
      "jan 200\n",
      "feb 300\n",
      "mar 200\n",
      "apr 500\n"
     ]
    },
    {
     "data": {
      "image/png": "[encoded data removed]",
      "text/plain": [
       "<Figure size 500x200 with 1 Axes>"
      ]
     },
     "metadata": {},
     "output_type": "display_data"
    }
   ],
   "source": [
    "# 创建画布\n",
    "plt.figure(figsize=(5,2))\n",
    "# 创建数据\n",
    "month=['jan','feb','mar','apr']\n",
    "sales=[200,300,200,500]\n",
    "# 绘制图表\n",
    "plt.plot(month,sales,label='A')\n",
    "# 标题\n",
    "plt.title('2025 sales',color='green')\n",
    "# 坐标轴标签\n",
    "plt.xlabel('month',fontsize=10)\n",
    "plt.ylabel('sales',fontsize=10)\n",
    "# 添加图例\n",
    "plt.legend(loc='upper left')\n",
    "# 添加网格线\n",
    "plt.grid(alpha=0.3)\n",
    "# y轴范围\n",
    "plt.ylim(0,600)\n",
    "# 每个数据点显示数值\n",
    "for x,y in zip(month,sales):\n",
    "    print(x,y)\n",
    "    plt.text(x,y,str(y))\n",
    "# 显示图表\n",
    "plt.show()"
   ]
  },
  {
   "cell_type": "markdown",
   "id": "54f6c971-5a55-48ce-994b-905e1562782f",
   "metadata": {},
   "source": [
    "### 条形图bar\n"
   ]
  },
  {
   "cell_type": "code",
   "execution_count": 34,
   "id": "a3dbae38-87a0-4fa0-ac95-18f92437be06",
   "metadata": {},
   "outputs": [
    {
     "data": {
      "text/plain": [
       "(0.0, 100.0)"
      ]
     },
     "execution_count": 34,
     "metadata": {},
     "output_type": "execute_result"
    },
    {
     "data": {
      "image/png": "[encoded data removed]",
      "text/plain": [
       "<Figure size 300x200 with 1 Axes>"
      ]
     },
     "metadata": {},
     "output_type": "display_data"
    }
   ],
   "source": [
    "plt.figure(figsize=(3,2))\n",
    "subjects=['eng','math','phy','chem']\n",
    "scores=[80,92,71,94]\n",
    "plt.bar(subjects,scores)\n",
    "plt.title(\"alice's score\",color='blue')\n",
    "plt.xlabel('subjects',color='green')\n",
    "plt.ylabel('scores',color='green')\n",
    "plt.ylim(0,100)"
   ]
  },
  {
   "cell_type": "markdown",
   "id": "a99f1eea-da79-4a16-8d2a-8cafe2c0a9e1",
   "metadata": {},
   "source": [
    "### 饼图pie"
   ]
  },
  {
   "cell_type": "code",
   "execution_count": 46,
   "id": "66c76ce5-4a09-47c9-9ac0-73b8ad879bc6",
   "metadata": {},
   "outputs": [
    {
     "data": {
      "image/png": "[encoded data removed]",
      "text/plain": [
       "<Figure size 640x480 with 1 Axes>"
      ]
     },
     "metadata": {},
     "output_type": "display_data"
    }
   ],
   "source": [
    "games=['bf1','bfv','bf2042','bf6','csgo','m&b']\n",
    "times=[400,80,30,200,600,100]\n",
    "plt.pie(times,labels=games)\n",
    "plt.show()"
   ]
  },
  {
   "cell_type": "code",
   "execution_count": null,
   "id": "3f43d09b-c101-468b-b8d3-9ab15e274b48",
   "metadata": {},
   "outputs": [],
   "source": []
  },
  {
   "cell_type": "code",
   "execution_count": null,
   "id": "16616585-93f2-47e6-837b-4f98a2c2e9a0",
   "metadata": {},
   "outputs": [],
   "source": []
  },
  {
   "cell_type": "code",
   "execution_count": null,
   "id": "fe360b5f-e5fb-43a2-baca-198e6352ab90",
   "metadata": {},
   "outputs": [],
   "source": []
  },
  {
   "cell_type": "code",
   "execution_count": null,
   "id": "56572ec4-a90f-4eaa-bb35-00a254e73d1b",
   "metadata": {},
   "outputs": [],
   "source": []
  },
  {
   "cell_type": "code",
   "execution_count": null,
   "id": "1e2a8bd3-8eed-41f7-9034-43eb839bb35c",
   "metadata": {},
   "outputs": [],
   "source": []
  },
  {
   "cell_type": "code",
   "execution_count": null,
   "id": "40cb4d34-d3af-406f-915e-32abb7ecea8c",
   "metadata": {},
   "outputs": [],
   "source": []
  },
  {
   "cell_type": "code",
   "execution_count": null,
   "id": "8ed6e992-b83c-4636-bd16-e9e546262243",
   "metadata": {},
   "outputs": [],
   "source": []
  },
  {
   "cell_type": "code",
   "execution_count": null,
   "id": "a0da8b72-e740-48b0-9fd5-6f51fd075b1a",
   "metadata": {},
   "outputs": [],
   "source": []
  },
  {
   "cell_type": "code",
   "execution_count": null,
   "id": "5ac656e8-de3b-4bc8-a375-ce567b5d33c0",
   "metadata": {},
   "outputs": [],
   "source": []
  },
  {
   "cell_type": "code",
   "execution_count": null,
   "id": "fd86b86a-e2e2-4c3a-9c8f-e44147b919d9",
   "metadata": {},
   "outputs": [],
   "source": []
  },
  {
   "cell_type": "code",
   "execution_count": null,
   "id": "5d7329d5-c824-4555-be67-a5d929a5f0cd",
   "metadata": {},
   "outputs": [],
   "source": []
  }
 ],
 "metadata": {
  "kernelspec": {
   "display_name": "Python 3 (ipykernel)",
   "language": "python",
   "name": "python3"
  },
  "language_info": {
   "codemirror_mode": {
    "name": "ipython",
    "version": 3
   },
   "file_extension": ".py",
   "mimetype": "text/x-python",
   "name": "python",
   "nbconvert_exporter": "python",
   "pygments_lexer": "ipython3",
   "version": "3.13.5"
  }
 },
 "nbformat": 4,
 "nbformat_minor": 5
}
